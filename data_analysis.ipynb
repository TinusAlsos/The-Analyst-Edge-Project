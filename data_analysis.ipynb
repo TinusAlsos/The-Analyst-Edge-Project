{
 "cells": [
  {
   "cell_type": "markdown",
   "metadata": {},
   "source": [
    "# Data analysis"
   ]
  },
  {
   "cell_type": "code",
   "execution_count": 43,
   "metadata": {},
   "outputs": [],
   "source": [
    "# Imports\n",
    "import os\n",
    "import pandas as pd\n",
    "import numpy as np"
   ]
  },
  {
   "cell_type": "code",
   "execution_count": 44,
   "metadata": {},
   "outputs": [],
   "source": [
    "## Exploring the data"
   ]
  },
  {
   "cell_type": "code",
   "execution_count": 45,
   "metadata": {},
   "outputs": [
    {
     "name": "stdout",
     "output_type": "stream",
     "text": [
      "<class 'pandas.core.frame.DataFrame'>\n",
      "RangeIndex: 4424 entries, 0 to 4423\n",
      "Data columns (total 35 columns):\n",
      " #   Column                                          Non-Null Count  Dtype  \n",
      "---  ------                                          --------------  -----  \n",
      " 0   Marital status                                  4424 non-null   int64  \n",
      " 1   Application mode                                4424 non-null   int64  \n",
      " 2   Application order                               4424 non-null   int64  \n",
      " 3   Course                                          4424 non-null   int64  \n",
      " 4   Daytime/evening attendance                      4424 non-null   int64  \n",
      " 5   Previous qualification                          4424 non-null   int64  \n",
      " 6   Nacionality                                     4424 non-null   int64  \n",
      " 7   Mother's qualification                          4424 non-null   int64  \n",
      " 8   Father's qualification                          4424 non-null   int64  \n",
      " 9   Mother's occupation                             4424 non-null   int64  \n",
      " 10  Father's occupation                             4424 non-null   int64  \n",
      " 11  Displaced                                       4424 non-null   int64  \n",
      " 12  Educational special needs                       4424 non-null   int64  \n",
      " 13  Debtor                                          4424 non-null   int64  \n",
      " 14  Tuition fees up to date                         4424 non-null   int64  \n",
      " 15  Gender                                          4424 non-null   int64  \n",
      " 16  Scholarship holder                              4424 non-null   int64  \n",
      " 17  Age at enrollment                               4424 non-null   int64  \n",
      " 18  International                                   4424 non-null   int64  \n",
      " 19  Curricular units 1st sem (credited)             4424 non-null   int64  \n",
      " 20  Curricular units 1st sem (enrolled)             4424 non-null   int64  \n",
      " 21  Curricular units 1st sem (evaluations)          4424 non-null   int64  \n",
      " 22  Curricular units 1st sem (approved)             4424 non-null   int64  \n",
      " 23  Curricular units 1st sem (grade)                4424 non-null   float64\n",
      " 24  Curricular units 1st sem (without evaluations)  4424 non-null   int64  \n",
      " 25  Curricular units 2nd sem (credited)             4424 non-null   int64  \n",
      " 26  Curricular units 2nd sem (enrolled)             4424 non-null   int64  \n",
      " 27  Curricular units 2nd sem (evaluations)          4424 non-null   int64  \n",
      " 28  Curricular units 2nd sem (approved)             4424 non-null   int64  \n",
      " 29  Curricular units 2nd sem (grade)                4424 non-null   float64\n",
      " 30  Curricular units 2nd sem (without evaluations)  4424 non-null   int64  \n",
      " 31  Unemployment rate                               4424 non-null   float64\n",
      " 32  Inflation rate                                  4424 non-null   float64\n",
      " 33  GDP                                             4424 non-null   float64\n",
      " 34  Target                                          4424 non-null   object \n",
      "dtypes: float64(5), int64(29), object(1)\n",
      "memory usage: 1.2+ MB\n"
     ]
    }
   ],
   "source": [
    "# Read data\n",
    "# Define the file path\n",
    "file_path = 'data/dataset.csv'\n",
    "\n",
    "# Read the CSV file into a DataFrame\n",
    "df = pd.read_csv(file_path)\n",
    "\n",
    "# Display the first few rows of the DataFrame\n",
    "df.info()\n"
   ]
  },
  {
   "cell_type": "code",
   "execution_count": 46,
   "metadata": {},
   "outputs": [
    {
     "name": "stdout",
     "output_type": "stream",
     "text": [
      "Index(['Curricular units 1st sem (grade)', 'Curricular units 2nd sem (grade)',\n",
      "       'Unemployment rate', 'Inflation rate', 'GDP', 'Target'],\n",
      "      dtype='object')\n",
      "Curricular units 1st sem (grade)    float64\n",
      "Curricular units 2nd sem (grade)    float64\n",
      "Unemployment rate                   float64\n",
      "Inflation rate                      float64\n",
      "GDP                                 float64\n",
      "Target                               object\n",
      "dtype: object\n",
      "       Curricular units 1st sem (grade)  Curricular units 2nd sem (grade)  \\\n",
      "count                       4424.000000                       4424.000000   \n",
      "mean                          10.640822                         10.230206   \n",
      "std                            4.843663                          5.210808   \n",
      "min                            0.000000                          0.000000   \n",
      "25%                           11.000000                         10.750000   \n",
      "50%                           12.285714                         12.200000   \n",
      "75%                           13.400000                         13.333333   \n",
      "max                           18.875000                         18.571429   \n",
      "\n",
      "       Unemployment rate  Inflation rate          GDP  \n",
      "count        4424.000000     4424.000000  4424.000000  \n",
      "mean           11.566139        1.228029     0.001969  \n",
      "std             2.663850        1.382711     2.269935  \n",
      "min             7.600000       -0.800000    -4.060000  \n",
      "25%             9.400000        0.300000    -1.700000  \n",
      "50%            11.100000        1.400000     0.320000  \n",
      "75%            13.900000        2.600000     1.790000  \n",
      "max            16.200000        3.700000     3.510000  \n"
     ]
    }
   ],
   "source": [
    "non_integer_columns = df.select_dtypes(exclude=['int64']).columns\n",
    "print(non_integer_columns)\n",
    "non_integer_dtypes = df.select_dtypes(exclude=['int64']).dtypes\n",
    "print(non_integer_dtypes)\n",
    "print(df[non_integer_columns].describe())\n"
   ]
  },
  {
   "cell_type": "code",
   "execution_count": 47,
   "metadata": {},
   "outputs": [
    {
     "data": {
      "text/plain": [
       "Index(['Marital status', 'Application mode', 'Application order', 'Course',\n",
       "       'Daytime/evening attendance', 'Previous qualification', 'Nacionality',\n",
       "       'Mother's qualification', 'Father's qualification',\n",
       "       'Mother's occupation', 'Father's occupation', 'Displaced',\n",
       "       'Educational special needs', 'Debtor', 'Tuition fees up to date',\n",
       "       'Gender', 'Scholarship holder', 'Age at enrollment', 'International',\n",
       "       'Curricular units 1st sem (credited)',\n",
       "       'Curricular units 1st sem (enrolled)',\n",
       "       'Curricular units 1st sem (evaluations)',\n",
       "       'Curricular units 1st sem (approved)',\n",
       "       'Curricular units 1st sem (grade)',\n",
       "       'Curricular units 1st sem (without evaluations)',\n",
       "       'Curricular units 2nd sem (credited)',\n",
       "       'Curricular units 2nd sem (enrolled)',\n",
       "       'Curricular units 2nd sem (evaluations)',\n",
       "       'Curricular units 2nd sem (approved)',\n",
       "       'Curricular units 2nd sem (grade)',\n",
       "       'Curricular units 2nd sem (without evaluations)', 'Unemployment rate',\n",
       "       'Inflation rate', 'GDP', 'Target'],\n",
       "      dtype='object')"
      ]
     },
     "execution_count": 47,
     "metadata": {},
     "output_type": "execute_result"
    }
   ],
   "source": [
    "df.columns"
   ]
  },
  {
   "cell_type": "code",
   "execution_count": 48,
   "metadata": {},
   "outputs": [
    {
     "data": {
      "text/plain": [
       "{'Dropout', 'Enrolled', 'Graduate'}"
      ]
     },
     "execution_count": 48,
     "metadata": {},
     "output_type": "execute_result"
    }
   ],
   "source": [
    "set(df['Target'])"
   ]
  },
  {
   "cell_type": "markdown",
   "metadata": {},
   "source": [
    "We see that there are three categories for the target variable. I'm not sure how we should handle enrolled, as it doesn't really help us with predicting dropout, so I will remove them for now. "
   ]
  },
  {
   "cell_type": "code",
   "execution_count": 49,
   "metadata": {},
   "outputs": [
    {
     "name": "stdout",
     "output_type": "stream",
     "text": [
      "Graduate    2209\n",
      "Dropout     1421\n",
      "Enrolled     794\n",
      "Name: Target, dtype: int64\n"
     ]
    }
   ],
   "source": [
    "# Assuming df is your DataFrame\n",
    "counts = df['Target'].value_counts()\n",
    "print(counts)\n"
   ]
  },
  {
   "cell_type": "code",
   "execution_count": 50,
   "metadata": {},
   "outputs": [
    {
     "name": "stdout",
     "output_type": "stream",
     "text": [
      "(3630, 35)\n",
      "   Marital status  Application mode  Application order  Course  \\\n",
      "0               1                 8                  5       2   \n",
      "1               1                 6                  1      11   \n",
      "2               1                 1                  5       5   \n",
      "3               1                 8                  2      15   \n",
      "4               2                12                  1       3   \n",
      "\n",
      "   Daytime/evening attendance  Previous qualification  Nacionality  \\\n",
      "0                           1                       1            1   \n",
      "1                           1                       1            1   \n",
      "2                           1                       1            1   \n",
      "3                           1                       1            1   \n",
      "4                           0                       1            1   \n",
      "\n",
      "   Mother's qualification  Father's qualification  Mother's occupation  ...  \\\n",
      "0                      13                      10                    6  ...   \n",
      "1                       1                       3                    4  ...   \n",
      "2                      22                      27                   10  ...   \n",
      "3                      23                      27                    6  ...   \n",
      "4                      22                      28                   10  ...   \n",
      "\n",
      "   Curricular units 2nd sem (credited)  Curricular units 2nd sem (enrolled)  \\\n",
      "0                                    0                                    0   \n",
      "1                                    0                                    6   \n",
      "2                                    0                                    6   \n",
      "3                                    0                                    6   \n",
      "4                                    0                                    6   \n",
      "\n",
      "   Curricular units 2nd sem (evaluations)  \\\n",
      "0                                       0   \n",
      "1                                       6   \n",
      "2                                       0   \n",
      "3                                      10   \n",
      "4                                       6   \n",
      "\n",
      "   Curricular units 2nd sem (approved)  Curricular units 2nd sem (grade)  \\\n",
      "0                                    0                          0.000000   \n",
      "1                                    6                         13.666667   \n",
      "2                                    0                          0.000000   \n",
      "3                                    5                         12.400000   \n",
      "4                                    6                         13.000000   \n",
      "\n",
      "   Curricular units 2nd sem (without evaluations)  Unemployment rate  \\\n",
      "0                                               0               10.8   \n",
      "1                                               0               13.9   \n",
      "2                                               0               10.8   \n",
      "3                                               0                9.4   \n",
      "4                                               0               13.9   \n",
      "\n",
      "   Inflation rate   GDP    Target  \n",
      "0             1.4  1.74   Dropout  \n",
      "1            -0.3  0.79  Graduate  \n",
      "2             1.4  1.74   Dropout  \n",
      "3            -0.8 -3.12  Graduate  \n",
      "4            -0.3  0.79  Graduate  \n",
      "\n",
      "[5 rows x 35 columns]\n"
     ]
    }
   ],
   "source": [
    "# Assuming df is your DataFrame\n",
    "filtered_df = df[df['Target'] != 'Enrolled']\n",
    "\n",
    "# If you want to modify the original DataFrame in-place:\n",
    "df = df[df['Target'] != 'Enrolled']\n",
    "\n",
    "# After filtering, check the shape or head of your DataFrame to confirm the operation:\n",
    "print(filtered_df.shape)\n",
    "print(filtered_df.head())\n"
   ]
  },
  {
   "cell_type": "markdown",
   "metadata": {},
   "source": [
    "We are left with 3650 useable examples. Now I will map the categories to 1 and 0 so it can be used for training"
   ]
  },
  {
   "cell_type": "code",
   "execution_count": 51,
   "metadata": {},
   "outputs": [],
   "source": [
    "# Create a mapping dictionary with Dropout as 1 and Graduate as 0\n",
    "target_mapping = {\n",
    "    'Dropout': 1,\n",
    "    'Graduate': 0\n",
    "}\n",
    "\n",
    "# Apply the mapping to the 'Target' column\n",
    "df['Target'] = df['Target'].map(target_mapping)\n"
   ]
  },
  {
   "cell_type": "code",
   "execution_count": 56,
   "metadata": {},
   "outputs": [
    {
     "name": "stdout",
     "output_type": "stream",
     "text": [
      "Class balance: 39.146005509641874 % of the dataset are dropouts, excluding current students.\n"
     ]
    }
   ],
   "source": [
    "print('Class balance:', sum(df['Target'] == 1) / len(df['Target'])*100 , '% of the dataset are dropouts, excluding current students.')"
   ]
  },
  {
   "cell_type": "markdown",
   "metadata": {},
   "source": [
    "# Traning"
   ]
  },
  {
   "cell_type": "markdown",
   "metadata": {},
   "source": [
    "### Without cross-validation"
   ]
  },
  {
   "cell_type": "code",
   "execution_count": 27,
   "metadata": {},
   "outputs": [],
   "source": [
    "from sklearn.linear_model import LogisticRegression\n",
    "from sklearn.svm import SVC\n",
    "from sklearn.tree import DecisionTreeClassifier\n",
    "from sklearn.ensemble import RandomForestClassifier\n",
    "from sklearn.neural_network import MLPClassifier\n",
    "from sklearn.neighbors import KNeighborsClassifier\n",
    "from sklearn.metrics import accuracy_score\n",
    "from sklearn.model_selection import train_test_split\n",
    "import time\n",
    "from prettytable import PrettyTable"
   ]
  },
  {
   "cell_type": "code",
   "execution_count": 28,
   "metadata": {},
   "outputs": [
    {
     "name": "stdout",
     "output_type": "stream",
     "text": [
      "Training Logistic Regression...\n",
      "Logistic Regression trained in 0:m,0s\n",
      "Training SVM...\n",
      "SVM trained in 0:m,0s\n",
      "Training CART...\n",
      "CART trained in 0:m,0s\n",
      "Training Random Forest...\n",
      "Random Forest trained in 0:m,0s\n",
      "Training Neural Network...\n",
      "Neural Network trained in 0:m,44s\n",
      "+---------------------+--------------------+------------------------+----------------------+\n",
      "|        Model        | In-sample Accuracy | Out-of-sample Accuracy |  Training Time (s)   |\n",
      "+---------------------+--------------------+------------------------+----------------------+\n",
      "| Logistic Regression |  0.91538764266037  |   0.9201101928374655   | 0.29344844818115234  |\n",
      "|         SVM         | 0.8890200708382526 |   0.898989898989899    | 0.09829306602478027  |\n",
      "|         CART        |        1.0         |   0.8631772268135904   | 0.017052412033081055 |\n",
      "|    Random Forest    |        1.0         |   0.9090909090909091   | 0.31484508514404297  |\n",
      "|    Neural Network   | 0.9807162534435262 |   0.8943985307621671   |  44.87282037734985   |\n",
      "+---------------------+--------------------+------------------------+----------------------+\n"
     ]
    }
   ],
   "source": [
    "# Splitting the data\n",
    "X = df.drop('Target', axis=1)\n",
    "y = df['Target']\n",
    "\n",
    "X_train, X_test, y_train, y_test = train_test_split(X, y, test_size=0.30, random_state=42)\n",
    "\n",
    "# Initializing the models\n",
    "models = {\n",
    "    \"Logistic Regression\": LogisticRegression(max_iter=1000),\n",
    "    \"SVM\": SVC(),\n",
    "    \"CART\": DecisionTreeClassifier(),\n",
    "    \"Random Forest\": RandomForestClassifier(),\n",
    "    \"Neural Network\": MLPClassifier(max_iter=1000),\n",
    "    # \"KNN\": KNeighborsClassifier()  # Commented out due to error\n",
    "}\n",
    "\n",
    "results = {}\n",
    "trained_models = {}  \n",
    "\n",
    "for name, model in models.items():\n",
    "    print(f\"Training {name}...\")\n",
    "    \n",
    "    start_time = time.time()\n",
    "    model.fit(X_train, y_train)\n",
    "    end_time = time.time()\n",
    "    \n",
    "    elapsed_time = end_time - start_time\n",
    "    minutes = int(elapsed_time // 60)\n",
    "    seconds = int(elapsed_time % 60)\n",
    "    \n",
    "    print(f\"{name} trained in {minutes}:m,{seconds}s\")\n",
    "    \n",
    "    in_sample_score = accuracy_score(y_train, model.predict(X_train))\n",
    "    out_of_sample_score = accuracy_score(y_test, model.predict(X_test))\n",
    "    \n",
    "    results[name] = [in_sample_score, out_of_sample_score, elapsed_time]\n",
    "    trained_models[name] = model  \n",
    "\n",
    "# Displaying results using PrettyTable\n",
    "table = PrettyTable()\n",
    "table.field_names = [\"Model\", \"In-sample Accuracy\", \"Out-of-sample Accuracy\", \"Training Time (s)\"]\n",
    "\n",
    "for name, metrics in results.items():\n",
    "    table.add_row([name] + metrics)\n",
    "\n",
    "print(table)\n"
   ]
  },
  {
   "cell_type": "markdown",
   "metadata": {},
   "source": [
    "Note that KNN was skipped since I got an error with running predict to compute the accuracy metric"
   ]
  },
  {
   "cell_type": "markdown",
   "metadata": {},
   "source": [
    "We can see that all models did very well in a short amount of time juding by accuracy. Note that the dataset is somewhat unbalanced. Should check other metrics as well depending on model. I.e. FP, FN, precision, recall, f1-score, confusion matrices etc."
   ]
  },
  {
   "cell_type": "markdown",
   "metadata": {},
   "source": [
    "Below I save the results in a CSV file for later use."
   ]
  },
  {
   "cell_type": "code",
   "execution_count": 26,
   "metadata": {},
   "outputs": [],
   "source": [
    "save_results = results\n",
    "# Check if the 'results' directory exists, if not, create it\n",
    "if not os.path.exists('results'):\n",
    "    os.makedirs('results')\n",
    "\n",
    "# Convert the results dictionary to a pandas DataFrame and save it to a CSV file\n",
    "results_df = pd.DataFrame.from_dict(save_results, orient='index', columns=[\"In-sample Accuracy\", \"Out-of-sample Accuracy\", \"Training Time (s)\"])\n",
    "results_df.to_csv('results/model_results.csv')\n"
   ]
  },
  {
   "cell_type": "markdown",
   "metadata": {},
   "source": [
    "Next step: also try gradient boosting methods like lightgbm and xtreme gradient booston.\n",
    "Next step: Make more performance metrics as listed in earlier comment.\n",
    "Next step: Make plots or otherwise quantify variable importance."
   ]
  },
  {
   "cell_type": "markdown",
   "metadata": {},
   "source": []
  }
 ],
 "metadata": {
  "kernelspec": {
   "display_name": "base",
   "language": "python",
   "name": "python3"
  },
  "language_info": {
   "codemirror_mode": {
    "name": "ipython",
    "version": 3
   },
   "file_extension": ".py",
   "mimetype": "text/x-python",
   "name": "python",
   "nbconvert_exporter": "python",
   "pygments_lexer": "ipython3",
   "version": "3.8.16"
  }
 },
 "nbformat": 4,
 "nbformat_minor": 2
}
