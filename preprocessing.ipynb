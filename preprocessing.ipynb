{
 "cells": [
  {
   "cell_type": "markdown",
   "metadata": {},
   "source": [
    "# Preprocessing"
   ]
  },
  {
   "cell_type": "code",
   "execution_count": 3,
   "metadata": {},
   "outputs": [
    {
     "name": "stdout",
     "output_type": "stream",
     "text": [
      "c:\\Users\\tinus\\OneDrive\\Dokumenter\\01 MIT H23\\15.071 The Analytics Edge\\The-Analyst-Edge-Project\n"
     ]
    }
   ],
   "source": [
    "import numpy as np\n",
    "import pandas as pd\n",
    "import os\n",
    "file_path = os.path.abspath('')\n",
    "print(file_path)\n",
    "DATA_FOLDER_PATH = os.path.join(file_path, 'data')\n",
    "PROCESSED_DATA_FOLDER_PATH = os.path.join(file_path, 'processed_data')\n",
    "if not os.path.exists(PROCESSED_DATA_FOLDER_PATH):\n",
    "    os.mkdir(PROCESSED_DATA_FOLDER_PATH)"
   ]
  },
  {
   "cell_type": "code",
   "execution_count": 8,
   "metadata": {},
   "outputs": [
    {
     "data": {
      "text/plain": [
       "Marital status                                      int64\n",
       "Application mode                                    int64\n",
       "Application order                                   int64\n",
       "Course                                              int64\n",
       "Daytime/evening attendance                          int64\n",
       "Previous qualification                              int64\n",
       "Nacionality                                         int64\n",
       "Mother's qualification                              int64\n",
       "Father's qualification                              int64\n",
       "Mother's occupation                                 int64\n",
       "Father's occupation                                 int64\n",
       "Displaced                                           int64\n",
       "Educational special needs                           int64\n",
       "Debtor                                              int64\n",
       "Tuition fees up to date                             int64\n",
       "Gender                                              int64\n",
       "Scholarship holder                                  int64\n",
       "Age at enrollment                                   int64\n",
       "International                                       int64\n",
       "Curricular units 1st sem (credited)                 int64\n",
       "Curricular units 1st sem (enrolled)                 int64\n",
       "Curricular units 1st sem (evaluations)              int64\n",
       "Curricular units 1st sem (approved)                 int64\n",
       "Curricular units 1st sem (grade)                  float64\n",
       "Curricular units 1st sem (without evaluations)      int64\n",
       "Curricular units 2nd sem (credited)                 int64\n",
       "Curricular units 2nd sem (enrolled)                 int64\n",
       "Curricular units 2nd sem (evaluations)              int64\n",
       "Curricular units 2nd sem (approved)                 int64\n",
       "Curricular units 2nd sem (grade)                  float64\n",
       "Curricular units 2nd sem (without evaluations)      int64\n",
       "Unemployment rate                                 float64\n",
       "Inflation rate                                    float64\n",
       "GDP                                               float64\n",
       "Target                                             object\n",
       "dtype: object"
      ]
     },
     "execution_count": 8,
     "metadata": {},
     "output_type": "execute_result"
    }
   ],
   "source": [
    "df = pd.read_csv(os.path.join(DATA_FOLDER_PATH, 'dataset.csv'))\n",
    "df.dtypes"
   ]
  },
  {
   "cell_type": "code",
   "execution_count": 18,
   "metadata": {},
   "outputs": [
    {
     "data": {
      "text/plain": [
       "array([5, 1, 2, 4, 3, 6, 9, 0], dtype=int64)"
      ]
     },
     "execution_count": 18,
     "metadata": {},
     "output_type": "execute_result"
    }
   ],
   "source": [
    "df['Application order'].unique()"
   ]
  },
  {
   "cell_type": "markdown",
   "metadata": {},
   "source": [
    "## Transfer to correct data type"
   ]
  },
  {
   "cell_type": "code",
   "execution_count": 17,
   "metadata": {},
   "outputs": [
    {
     "name": "stdout",
     "output_type": "stream",
     "text": [
      "['Application order', 'Age at enrollment', 'Curricular units 1st sem (credited)', 'Curricular units 1st sem (enrolled)', 'Curricular units 1st sem (evaluations)', 'Curricular units 1st sem (approved)', 'Curricular units 1st sem (without evaluations)', 'Curricular units 2nd sem (credited)', 'Curricular units 2nd sem (enrolled)', 'Curricular units 2nd sem (evaluations)', 'Curricular units 2nd sem (approved)', 'Curricular units 2nd sem (without evaluations)']\n"
     ]
    }
   ],
   "source": [
    "categorical_values = [\n",
    "    \"Marital status\",\n",
    "    \"Application mode\",\n",
    "    \"Course\",\n",
    "    \"Daytime/evening attendance\",\n",
    "    \"Previous qualification\",\n",
    "    \"Nacionality\",\n",
    "    \"Mother's qualification\",\n",
    "    \"Father's qualification\",\n",
    "    \"Mother's occupation\",\n",
    "    \"Father's occupation\",\n",
    "    \"Displaced\",\n",
    "    \"Educational special needs\",\n",
    "    \"Debtor\",\n",
    "    \"Tuition fees up to date\",\n",
    "    \"Gender\",\n",
    "    \"Scholarship holder\",\n",
    "    \"International\",\n",
    "    \"Target\"\n",
    "]\n",
    "float_values = [\n",
    "    \"Curricular units 1st sem (grade)\",\n",
    "    \"Curricular units 2nd sem (grade)\",\n",
    "    \"Unemployment rate\",\n",
    "    \"Inflation rate\",\n",
    "    \"GDP\"\n",
    "]\n",
    "int_values = list(df.columns.drop(categorical_values).drop(float_values))\n",
    "print(int_values)\n"
   ]
  },
  {
   "cell_type": "code",
   "execution_count": 19,
   "metadata": {},
   "outputs": [
    {
     "name": "stdout",
     "output_type": "stream",
     "text": [
      "True\n"
     ]
    }
   ],
   "source": [
    "print(len(df.columns) == len(categorical_values) + len(float_values) + len(int_values))"
   ]
  },
  {
   "cell_type": "code",
   "execution_count": 20,
   "metadata": {},
   "outputs": [],
   "source": [
    "# Convert columns in categorical_values to 'category' dtype\n",
    "for col in categorical_values:\n",
    "    if col in df.columns:\n",
    "        df[col] = df[col].astype('category')\n",
    "\n",
    "# Convert columns in float_values to 'float' dtype\n",
    "for col in float_values:\n",
    "    if col in df.columns:\n",
    "        df[col] = df[col].astype(float)\n",
    "\n",
    "# Convert columns in int_values to 'int' dtype\n",
    "for col in int_values:\n",
    "    if col in df.columns:\n",
    "        df[col] = df[col].astype(int)\n"
   ]
  },
  {
   "cell_type": "code",
   "execution_count": 23,
   "metadata": {},
   "outputs": [
    {
     "name": "stdout",
     "output_type": "stream",
     "text": [
      "['Dropout', 'Graduate']\n",
      "Categories (2, object): ['Dropout', 'Graduate']\n",
      "3630\n"
     ]
    },
    {
     "name": "stderr",
     "output_type": "stream",
     "text": [
      "C:\\Users\\tinus\\AppData\\Local\\Temp\\ipykernel_28176\\1398834565.py:4: SettingWithCopyWarning: \n",
      "A value is trying to be set on a copy of a slice from a DataFrame.\n",
      "Try using .loc[row_indexer,col_indexer] = value instead\n",
      "\n",
      "See the caveats in the documentation: https://pandas.pydata.org/pandas-docs/stable/user_guide/indexing.html#returning-a-view-versus-a-copy\n",
      "  df_filtered['Target'] = df_filtered['Target'].cat.remove_unused_categories()\n"
     ]
    }
   ],
   "source": [
    "# Filter out rows where 'Target' is 'Enrolled'\n",
    "df_filtered = df[df['Target'].isin(['Dropout', 'Graduate'])]\n",
    "\n",
    "df_filtered['Target'] = df_filtered['Target'].cat.remove_unused_categories()\n",
    "df = df_filtered\n",
    "print(df['Target'].unique())\n",
    "print(len(df))"
   ]
  },
  {
   "cell_type": "markdown",
   "metadata": {},
   "source": [
    "## Make train and test sets for consistency with correct dayatypes"
   ]
  },
  {
   "cell_type": "code",
   "execution_count": 24,
   "metadata": {},
   "outputs": [],
   "source": [
    "from sklearn.model_selection import train_test_split\n",
    "\n",
    "# Split the data into training and test sets (70% train, 30% test)\n",
    "train_df, test_df = train_test_split(df, test_size=0.3, random_state=42)\n",
    "\n",
    "# Create the folder if it doesn't exist\n",
    "os.makedirs(PROCESSED_DATA_FOLDER_PATH, exist_ok=True)\n",
    "\n",
    "# File paths for the CSV files\n",
    "train_file_path = os.path.join(PROCESSED_DATA_FOLDER_PATH, 'train.csv')\n",
    "test_file_path = os.path.join(PROCESSED_DATA_FOLDER_PATH, 'test.csv')\n",
    "\n",
    "# Save the DataFrames as CSV files\n",
    "train_df.to_csv(train_file_path, index=False)\n",
    "test_df.to_csv(test_file_path, index=False)\n"
   ]
  },
  {
   "cell_type": "markdown",
   "metadata": {},
   "source": [
    "## Here, I wanna try to really understand what the deal is with Curricular units 1st sem (grade) and Curricular units 2nd sem (grade) "
   ]
  },
  {
   "cell_type": "code",
   "execution_count": 28,
   "metadata": {},
   "outputs": [],
   "source": [
    "curricular_vars_1st_sem = [\n",
    "    \"Curricular units 1st sem (credited)\",\n",
    "    \"Curricular units 1st sem (enrolled)\",\n",
    "    \"Curricular units 1st sem (evaluations)\",\n",
    "    \"Curricular units 1st sem (approved)\",\n",
    "    \"Curricular units 1st sem (grade)\",\n",
    "    \"Curricular units 1st sem (without evaluations)\"\n",
    "]\n",
    "df_cur = df[curricular_vars_1st_sem]"
   ]
  },
  {
   "cell_type": "code",
   "execution_count": 29,
   "metadata": {},
   "outputs": [
    {
     "name": "stdout",
     "output_type": "stream",
     "text": [
      "Frequency of values in column 'Curricular units 1st sem (credited)':\n",
      "0     3150\n",
      "2       71\n",
      "1       67\n",
      "3       57\n",
      "6       43\n",
      "4       43\n",
      "5       31\n",
      "7       31\n",
      "8       27\n",
      "9       24\n",
      "11      16\n",
      "10      14\n",
      "14      14\n",
      "13      12\n",
      "12      11\n",
      "15       5\n",
      "18       4\n",
      "17       3\n",
      "16       3\n",
      "19       2\n",
      "20       2\n",
      "Name: Curricular units 1st sem (credited), dtype: int64\n",
      "\n",
      "\n",
      "Frequency of values in column 'Curricular units 1st sem (enrolled)':\n",
      "6     1594\n",
      "5      749\n",
      "7      546\n",
      "8      264\n",
      "0      152\n",
      "12      54\n",
      "10      43\n",
      "11      37\n",
      "9       31\n",
      "15      24\n",
      "14      22\n",
      "4       21\n",
      "18      19\n",
      "13      16\n",
      "17      13\n",
      "16      12\n",
      "3        9\n",
      "2        7\n",
      "21       6\n",
      "1        6\n",
      "19       2\n",
      "23       2\n",
      "26       1\n",
      "Name: Curricular units 1st sem (enrolled), dtype: int64\n",
      "\n",
      "\n",
      "Frequency of values in column 'Curricular units 1st sem (evaluations)':\n",
      "8     674\n",
      "7     621\n",
      "6     530\n",
      "0     321\n",
      "9     296\n",
      "10    235\n",
      "5     193\n",
      "11    162\n",
      "12    160\n",
      "13    104\n",
      "14     77\n",
      "15     49\n",
      "16     37\n",
      "17     29\n",
      "18     22\n",
      "19     18\n",
      "4      18\n",
      "21     15\n",
      "22     10\n",
      "20     10\n",
      "23      9\n",
      "3       6\n",
      "2       6\n",
      "24      5\n",
      "1       5\n",
      "26      4\n",
      "25      3\n",
      "45      2\n",
      "29      2\n",
      "27      2\n",
      "36      1\n",
      "32      1\n",
      "31      1\n",
      "28      1\n",
      "33      1\n",
      "Name: Curricular units 1st sem (evaluations), dtype: int64\n",
      "\n",
      "\n",
      "Frequency of values in column 'Curricular units 1st sem (approved)':\n",
      "6     1033\n",
      "0      647\n",
      "5      530\n",
      "7      429\n",
      "4      288\n",
      "3      176\n",
      "2      118\n",
      "1       94\n",
      "8       94\n",
      "11      42\n",
      "12      40\n",
      "9       35\n",
      "13      23\n",
      "10      21\n",
      "18      15\n",
      "14      14\n",
      "17      10\n",
      "15       6\n",
      "16       5\n",
      "21       4\n",
      "20       3\n",
      "19       2\n",
      "26       1\n",
      "Name: Curricular units 1st sem (approved), dtype: int64\n",
      "\n",
      "\n",
      "Frequency of values in column 'Curricular units 1st sem (grade)':\n",
      "0.000000     647\n",
      "12.000000    153\n",
      "13.000000    123\n",
      "11.000000     95\n",
      "14.000000     70\n",
      "            ... \n",
      "13.423750      1\n",
      "11.785714      1\n",
      "11.677778      1\n",
      "13.925714      1\n",
      "14.912500      1\n",
      "Name: Curricular units 1st sem (grade), Length: 752, dtype: int64\n",
      "\n",
      "\n",
      "Frequency of values in column 'Curricular units 1st sem (without evaluations)':\n",
      "0     3406\n",
      "1      118\n",
      "2       58\n",
      "3       16\n",
      "4       14\n",
      "6        5\n",
      "7        5\n",
      "5        3\n",
      "12       2\n",
      "8        2\n",
      "10       1\n",
      "Name: Curricular units 1st sem (without evaluations), dtype: int64\n",
      "\n",
      "\n"
     ]
    }
   ],
   "source": [
    "for column in df_cur.columns:\n",
    "    print(f\"Frequency of values in column '{column}':\")\n",
    "    print(df[column].value_counts())\n",
    "    print(\"\\n\")"
   ]
  },
  {
   "cell_type": "code",
   "execution_count": 31,
   "metadata": {},
   "outputs": [
    {
     "data": {
      "image/png": "[encoded data removed]",
      "text/plain": [
       "<Figure size 2000x800 with 1 Axes>"
      ]
     },
     "metadata": {},
     "output_type": "display_data"
    }
   ],
   "source": [
    "import matplotlib.pyplot as plt\n",
    "import numpy as np\n",
    "\n",
    "# Assuming df_cur is your DataFrame and it contains the specified columns\n",
    "# Selecting the first 100 rows for the plot\n",
    "df_subset = df_cur.head(100)\n",
    "\n",
    "# Setting the positions for the bars\n",
    "bar_width = 0.35\n",
    "index = np.arange(len(df_subset))\n",
    "\n",
    "# Plotting\n",
    "plt.figure(figsize=(20, 8))\n",
    "plt.bar(index, df_subset['Curricular units 1st sem (grade)'], bar_width, label='Curricular units 1st sem (grade)')\n",
    "plt.bar(index + bar_width, df_subset['Curricular units 1st sem (evaluations)'], bar_width, label='Curricular units 1st sem (evaluations)')\n",
    "\n",
    "plt.xlabel('Row Index')\n",
    "plt.ylabel('Values')\n",
    "plt.title('Curricular Units 1st Sem - Grade vs Evaluations (First 100 Rows)')\n",
    "plt.xticks(index + bar_width / 2, df_subset.index)\n",
    "plt.legend()\n",
    "plt.show()\n"
   ]
  },
  {
   "cell_type": "markdown",
   "metadata": {},
   "source": [
    "## Create different datasets for different usecases"
   ]
  },
  {
   "cell_type": "markdown",
   "metadata": {},
   "source": [
    "### A: With tuition fees up to date"
   ]
  },
  {
   "cell_type": "code",
   "execution_count": null,
   "metadata": {},
   "outputs": [],
   "source": [
    "## Case 1) With all the columns\n",
    "df_all = df.copy()\n",
    "## Case 2a) Without 2nd sem results columns\n",
    "df_during_2nd_sem = df_all.drop(columns=['Curricular units 2nd sem (credited)',\n",
    "                              'Curricular units 2nd sem (evaluations)',\n",
    "                              'Curricular units 2nd sem (approved)',\n",
    "                              'Curricular units 2nd sem (grade)',\n",
    "                              'Curricular units 2nd sem (without evaluations)'])\n",
    "## Case 2b) Without 2nd semester columns altogether\n",
    "df_before_2nd_sem = df_during_2nd_sem.drop(columns=['Curricular units 2nd sem (enrolled)'])\n",
    "## Case 3a) Without 1st semester results columns\n",
    "df__during_1st_sem = df_before_2nd_sem.drop(columns=['Curricular units 1st sem (credited)',\n",
    "                              'Curricular units 1st sem (evaluations)',\n",
    "                              'Curricular units 1st sem (approved)',\n",
    "                              'Curricular units 1st sem (grade)',\n",
    "                              'Curricular units 1st sem (without evaluations)'])\n",
    "## Case 3a) Without 1st semester columns\n",
    "df_before_1st_sem = df__during_1st_sem.drop(columns=['Curricular units 1st sem (enrolled)'])\n"
   ]
  },
  {
   "cell_type": "code",
   "execution_count": null,
   "metadata": {},
   "outputs": [],
   "source": [
    "### B: Without Tuition column\n",
    "# Case 1: With all columns except \"Tuition fees up to date\"\n",
    "df_all_no_tuition = df.drop(columns=['Tuition fees up to date'])\n",
    "\n",
    "# Case 2a: Without 2nd sem results columns and \"Tuition fees up to date\"\n",
    "df_during_2nd_sem_no_tuition = df_all_no_tuition.drop(columns=[\n",
    "    'Curricular units 2nd sem (credited)',\n",
    "    'Curricular units 2nd sem (evaluations)',\n",
    "    'Curricular units 2nd sem (approved)',\n",
    "    'Curricular units 2nd sem (grade)',\n",
    "    'Curricular units 2nd sem (without evaluations)'\n",
    "])\n",
    "\n",
    "# Case 2b: Without 2nd semester columns altogether and \"Tuition fees up to date\"\n",
    "df_before_2nd_sem_no_tuition = df_during_2nd_sem_no_tuition.drop(columns=['Curricular units 2nd sem (enrolled)'])\n",
    "\n",
    "# Case 3a: Without 1st semester results columns and \"Tuition fees up to date\"\n",
    "df_during_1st_sem_no_tuition = df_before_2nd_sem_no_tuition.drop(columns=[\n",
    "    'Curricular units 1st sem (credited)',\n",
    "    'Curricular units 1st sem (evaluations)',\n",
    "    'Curricular units 1st sem (approved)',\n",
    "    'Curricular units 1st sem (grade)',\n",
    "    'Curricular units 1st sem (without evaluations)'\n",
    "])\n",
    "\n",
    "# Case 3b: Without 1st semester columns and \"Tuition fees up to date\"\n",
    "df_before_1st_sem_no_tuition = df_during_1st_sem_no_tuition.drop(columns=['Curricular units 1st sem (enrolled)'])\n"
   ]
  }
 ],
 "metadata": {
  "kernelspec": {
   "display_name": "base",
   "language": "python",
   "name": "python3"
  },
  "language_info": {
   "codemirror_mode": {
    "name": "ipython",
    "version": 3
   },
   "file_extension": ".py",
   "mimetype": "text/x-python",
   "name": "python",
   "nbconvert_exporter": "python",
   "pygments_lexer": "ipython3",
   "version": "3.8.16"
  }
 },
 "nbformat": 4,
 "nbformat_minor": 2
}
